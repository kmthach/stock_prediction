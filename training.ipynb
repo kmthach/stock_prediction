{
  "cells": [
    {
      "cell_type": "markdown",
      "source": [
        "#Stock Price Prediction 2022"
      ],
      "metadata": {
        "id": "ua4vqlL1sbKt"
      }
    },
    {
      "cell_type": "markdown",
      "source": [
        "## Data Prepare"
      ],
      "metadata": {
        "id": "n_8oBHDmtWCE"
      }
    },
    {
      "cell_type": "markdown",
      "source": [
        "+ I use S&P 500 Stocks dataset from Kaggle\n",
        "[download link here](https://www.kaggle.com/datasets/andrewmvd/sp-500-stocks)\n",
        "\n",
        "+ I have already preprocess and split train, test so I just load from gg drive\n"
      ],
      "metadata": {
        "id": "nW5ABwxdsgJk"
      }
    },
    {
      "cell_type": "code",
      "execution_count": null,
      "metadata": {
        "id": "pTQLWp8X0TH9"
      },
      "outputs": [],
      "source": [
        "from google.colab import drive\n",
        "drive.mount('/content/drive')\n",
        "!unzip /content/drive/MyDrive/sp500_stocks.csv.zip\n",
        "!cp /content/drive/MyDrive/sp500_preprocessed.csv /content/sp500_preprocessed.csv\n",
        "!cp  /content/drive/MyDrive/sp500_train.csv /content/sp500_train.csv\n",
        "!cp  /content/drive/MyDrive/sp500_test.csv /content/sp500_test.csv"
      ]
    },
    {
      "cell_type": "code",
      "execution_count": null,
      "metadata": {
        "colab": {
          "base_uri": "https://localhost:8080/",
          "height": 206
        },
        "id": "QCincyFm2DcV",
        "outputId": "ed421d92-d99e-4af2-9984-68dc8240699e"
      },
      "outputs": [
        {
          "output_type": "execute_result",
          "data": {
            "text/plain": [
              "                        Date Symbol  Adj Close      Close       High  \\\n",
              "0  2010-01-04 00:00:00-05:00    MMM  59.318886  83.019997  83.449997   \n",
              "1  2010-01-05 00:00:00-05:00    MMM  58.947342  82.500000  83.230003   \n",
              "2  2010-01-06 00:00:00-05:00    MMM  59.783295  83.669998  84.599998   \n",
              "3  2010-01-07 00:00:00-05:00    MMM  59.826176  83.730003  83.760002   \n",
              "4  2010-01-08 00:00:00-05:00    MMM  60.247749  84.320000  84.320000   \n",
              "\n",
              "         Low       Open     Volume  \n",
              "0  82.669998  83.089996  3043700.0  \n",
              "1  81.699997  82.800003  2847000.0  \n",
              "2  83.510002  83.879997  5268500.0  \n",
              "3  82.120003  83.320000  4470100.0  \n",
              "4  83.300003  83.690002  3405800.0  "
            ],
            "text/html": [
              "\n",
              "  <div id=\"df-107525e3-a81a-4a6a-8881-d7e9568e7e65\">\n",
              "    <div class=\"colab-df-container\">\n",
              "      <div>\n",
              "<style scoped>\n",
              "    .dataframe tbody tr th:only-of-type {\n",
              "        vertical-align: middle;\n",
              "    }\n",
              "\n",
              "    .dataframe tbody tr th {\n",
              "        vertical-align: top;\n",
              "    }\n",
              "\n",
              "    .dataframe thead th {\n",
              "        text-align: right;\n",
              "    }\n",
              "</style>\n",
              "<table border=\"1\" class=\"dataframe\">\n",
              "  <thead>\n",
              "    <tr style=\"text-align: right;\">\n",
              "      <th></th>\n",
              "      <th>Date</th>\n",
              "      <th>Symbol</th>\n",
              "      <th>Adj Close</th>\n",
              "      <th>Close</th>\n",
              "      <th>High</th>\n",
              "      <th>Low</th>\n",
              "      <th>Open</th>\n",
              "      <th>Volume</th>\n",
              "    </tr>\n",
              "  </thead>\n",
              "  <tbody>\n",
              "    <tr>\n",
              "      <th>0</th>\n",
              "      <td>2010-01-04 00:00:00-05:00</td>\n",
              "      <td>MMM</td>\n",
              "      <td>59.318886</td>\n",
              "      <td>83.019997</td>\n",
              "      <td>83.449997</td>\n",
              "      <td>82.669998</td>\n",
              "      <td>83.089996</td>\n",
              "      <td>3043700.0</td>\n",
              "    </tr>\n",
              "    <tr>\n",
              "      <th>1</th>\n",
              "      <td>2010-01-05 00:00:00-05:00</td>\n",
              "      <td>MMM</td>\n",
              "      <td>58.947342</td>\n",
              "      <td>82.500000</td>\n",
              "      <td>83.230003</td>\n",
              "      <td>81.699997</td>\n",
              "      <td>82.800003</td>\n",
              "      <td>2847000.0</td>\n",
              "    </tr>\n",
              "    <tr>\n",
              "      <th>2</th>\n",
              "      <td>2010-01-06 00:00:00-05:00</td>\n",
              "      <td>MMM</td>\n",
              "      <td>59.783295</td>\n",
              "      <td>83.669998</td>\n",
              "      <td>84.599998</td>\n",
              "      <td>83.510002</td>\n",
              "      <td>83.879997</td>\n",
              "      <td>5268500.0</td>\n",
              "    </tr>\n",
              "    <tr>\n",
              "      <th>3</th>\n",
              "      <td>2010-01-07 00:00:00-05:00</td>\n",
              "      <td>MMM</td>\n",
              "      <td>59.826176</td>\n",
              "      <td>83.730003</td>\n",
              "      <td>83.760002</td>\n",
              "      <td>82.120003</td>\n",
              "      <td>83.320000</td>\n",
              "      <td>4470100.0</td>\n",
              "    </tr>\n",
              "    <tr>\n",
              "      <th>4</th>\n",
              "      <td>2010-01-08 00:00:00-05:00</td>\n",
              "      <td>MMM</td>\n",
              "      <td>60.247749</td>\n",
              "      <td>84.320000</td>\n",
              "      <td>84.320000</td>\n",
              "      <td>83.300003</td>\n",
              "      <td>83.690002</td>\n",
              "      <td>3405800.0</td>\n",
              "    </tr>\n",
              "  </tbody>\n",
              "</table>\n",
              "</div>\n",
              "      <button class=\"colab-df-convert\" onclick=\"convertToInteractive('df-107525e3-a81a-4a6a-8881-d7e9568e7e65')\"\n",
              "              title=\"Convert this dataframe to an interactive table.\"\n",
              "              style=\"display:none;\">\n",
              "        \n",
              "  <svg xmlns=\"http://www.w3.org/2000/svg\" height=\"24px\"viewBox=\"0 0 24 24\"\n",
              "       width=\"24px\">\n",
              "    <path d=\"M0 0h24v24H0V0z\" fill=\"none\"/>\n",
              "    <path d=\"M18.56 5.44l.94 2.06.94-2.06 2.06-.94-2.06-.94-.94-2.06-.94 2.06-2.06.94zm-11 1L8.5 8.5l.94-2.06 2.06-.94-2.06-.94L8.5 2.5l-.94 2.06-2.06.94zm10 10l.94 2.06.94-2.06 2.06-.94-2.06-.94-.94-2.06-.94 2.06-2.06.94z\"/><path d=\"M17.41 7.96l-1.37-1.37c-.4-.4-.92-.59-1.43-.59-.52 0-1.04.2-1.43.59L10.3 9.45l-7.72 7.72c-.78.78-.78 2.05 0 2.83L4 21.41c.39.39.9.59 1.41.59.51 0 1.02-.2 1.41-.59l7.78-7.78 2.81-2.81c.8-.78.8-2.07 0-2.86zM5.41 20L4 18.59l7.72-7.72 1.47 1.35L5.41 20z\"/>\n",
              "  </svg>\n",
              "      </button>\n",
              "      \n",
              "  <style>\n",
              "    .colab-df-container {\n",
              "      display:flex;\n",
              "      flex-wrap:wrap;\n",
              "      gap: 12px;\n",
              "    }\n",
              "\n",
              "    .colab-df-convert {\n",
              "      background-color: #E8F0FE;\n",
              "      border: none;\n",
              "      border-radius: 50%;\n",
              "      cursor: pointer;\n",
              "      display: none;\n",
              "      fill: #1967D2;\n",
              "      height: 32px;\n",
              "      padding: 0 0 0 0;\n",
              "      width: 32px;\n",
              "    }\n",
              "\n",
              "    .colab-df-convert:hover {\n",
              "      background-color: #E2EBFA;\n",
              "      box-shadow: 0px 1px 2px rgba(60, 64, 67, 0.3), 0px 1px 3px 1px rgba(60, 64, 67, 0.15);\n",
              "      fill: #174EA6;\n",
              "    }\n",
              "\n",
              "    [theme=dark] .colab-df-convert {\n",
              "      background-color: #3B4455;\n",
              "      fill: #D2E3FC;\n",
              "    }\n",
              "\n",
              "    [theme=dark] .colab-df-convert:hover {\n",
              "      background-color: #434B5C;\n",
              "      box-shadow: 0px 1px 3px 1px rgba(0, 0, 0, 0.15);\n",
              "      filter: drop-shadow(0px 1px 2px rgba(0, 0, 0, 0.3));\n",
              "      fill: #FFFFFF;\n",
              "    }\n",
              "  </style>\n",
              "\n",
              "      <script>\n",
              "        const buttonEl =\n",
              "          document.querySelector('#df-107525e3-a81a-4a6a-8881-d7e9568e7e65 button.colab-df-convert');\n",
              "        buttonEl.style.display =\n",
              "          google.colab.kernel.accessAllowed ? 'block' : 'none';\n",
              "\n",
              "        async function convertToInteractive(key) {\n",
              "          const element = document.querySelector('#df-107525e3-a81a-4a6a-8881-d7e9568e7e65');\n",
              "          const dataTable =\n",
              "            await google.colab.kernel.invokeFunction('convertToInteractive',\n",
              "                                                     [key], {});\n",
              "          if (!dataTable) return;\n",
              "\n",
              "          const docLinkHtml = 'Like what you see? Visit the ' +\n",
              "            '<a target=\"_blank\" href=https://colab.research.google.com/notebooks/data_table.ipynb>data table notebook</a>'\n",
              "            + ' to learn more about interactive tables.';\n",
              "          element.innerHTML = '';\n",
              "          dataTable['output_type'] = 'display_data';\n",
              "          await google.colab.output.renderOutput(dataTable, element);\n",
              "          const docLink = document.createElement('div');\n",
              "          docLink.innerHTML = docLinkHtml;\n",
              "          element.appendChild(docLink);\n",
              "        }\n",
              "      </script>\n",
              "    </div>\n",
              "  </div>\n",
              "  "
            ]
          },
          "metadata": {},
          "execution_count": 4
        }
      ],
      "source": [
        "import pandas as pd\n",
        "df = pd.read_csv('/content/sp500_stocks.csv')\n",
        "df.head(5)"
      ]
    },
    {
      "cell_type": "markdown",
      "source": [
        "\n",
        "+ So our data is tablet data so that I just use some columns for create dataset for training: date, symbol, close.\n",
        "\n",
        "+ Each row in the table is a price result of a specific day from 2010 to 2023. But I don't use all days records, instead I use the every ending date of all months. For example for 31 days in January 2010, I just use the 2010-01-31 date for my dataset. \n",
        "\n",
        "+ I choose close price for our target prediction to make it simple.\n",
        "\n",
        "+ Then I split the dataset into 2 parts before 2018 (for training) and after 2018 (for test)"
      ],
      "metadata": {
        "id": "pMNRa9Kptp_t"
      }
    },
    {
      "cell_type": "code",
      "execution_count": null,
      "metadata": {
        "id": "PudO0AywBzs6"
      },
      "outputs": [],
      "source": [
        "# def preprocess(df):\n",
        "\n",
        "#   years = [*range(2010, 2023)]\n",
        "#   months = [*range(1, 13)]\n",
        "#   cols = []\n",
        "#   for year in years:\n",
        "#     for month in months:\n",
        "#       cols.append(f'{year} - {month}')\n",
        "#   new_df = pd.DataFrame(columns = cols)\n",
        "\n",
        "#   old_month = '01'\n",
        "#   end_prices = []\n",
        "#   old_symbol = 'MMM'\n",
        "\n",
        "#   for index, row in df.iterrows():\n",
        "    \n",
        "#     month = row['Date'].split('-')[1]\n",
        "#     symbol = row['Symbol']\n",
        "\n",
        "#     if old_month == month:\n",
        "#       continue\n",
        "\n",
        "#     if symbol != old_symbol:\n",
        "#       new_df.loc[old_symbol] = end_prices\n",
        "#       end_prices = []\n",
        "#       old_symbol = symbol\n",
        "\n",
        "#     end_price = df['Close'].iloc[index - 1]\n",
        "#     end_prices.append(end_price)\n",
        "#     old_month = month\n",
        "\n",
        "#   new_df.to_csv('sp500_preprocessed.csv')\n",
        "#   return new_df\n",
        "\n",
        "# preprocess(df)"
      ]
    },
    {
      "cell_type": "code",
      "execution_count": null,
      "metadata": {
        "id": "KgSNCXg4q8A-"
      },
      "outputs": [],
      "source": [
        "# def split_train_test(df, split_year):\n",
        "#   split_col_index = (split_year - 2010 + 1) * 12\n",
        "\n",
        "#   train = df.iloc[:, :split_col_index]\n",
        "#   test = df.iloc[:, split_col_index:]\n",
        "  \n",
        "#   train.to_csv('sp500_train.csv')\n",
        "#   test.to_csv('sp500_test.csv')\n",
        "#   return train, test\n",
        "\n",
        "\n",
        "# preprocessed_df = pd.read_csv('sp500_preprocessed.csv', index_col = 0)\n",
        "# train, test = split_train_test(preprocessed_df, 2018)"
      ]
    },
    {
      "cell_type": "markdown",
      "source": [
        "## Create Dataset"
      ],
      "metadata": {
        "id": "S9F3pjFjwEic"
      }
    },
    {
      "cell_type": "markdown",
      "source": [
        "+ Use MinMaxScaler for normalize data.\n",
        "\n",
        "+ The solution for create training data for time series problem is that: the future value is the result of the past value. That means INPUT for our model will be data in the past and OUTPUT is data in the future. \n",
        "\n",
        "+ Choose look-back periods = 30.\n",
        "\n",
        "+ The look-back periods term is the number of timestamps we will look back to predict future value. In my case I choose prices of 30 months ago to predict next month price.\n"
      ],
      "metadata": {
        "id": "sg48VZZwwIm8"
      }
    },
    {
      "cell_type": "code",
      "execution_count": null,
      "metadata": {
        "id": "xHBattDpumcs"
      },
      "outputs": [],
      "source": [
        "from torch.utils.data import Dataset, DataLoader\n",
        "from sklearn.preprocessing import MinMaxScaler\n",
        "import torch\n",
        "import torch.nn as nn\n",
        "import numpy as np\n",
        "class SP500Dataset(Dataset):\n",
        "  def __init__(self, csv_path, mode = 'training'):\n",
        "    super(SP500Dataset).__init__()\n",
        "    data = pd.read_csv(csv_path, index_col = 0)\n",
        "    self.symbols = data.index.to_list()\n",
        "    self.scaler = MinMaxScaler()\n",
        "    data= self.transform(data)\n",
        "    self.X, self.y = self.split_period(data = data, mode = mode)\n",
        "    \n",
        "\n",
        "  def __len__(self):\n",
        "    return len(self.X)\n",
        "\n",
        "  def __getitem__(self, index):\n",
        "    return self.X[index], self.y[index]\n",
        "\n",
        "  def transform(self, data):\n",
        "\n",
        "    data = data.values.astype(np.float32)\n",
        "    data = self.scaler.fit_transform(data)\n",
        "    return data\n",
        "\n",
        "  def split_period(self, data, periods = 30, mode = 'training'):\n",
        "    X, y = [], []\n",
        "    if mode == 'predict':\n",
        "      data = data[-(periods + 12): -12]\n",
        "    size = data.shape[1]\n",
        "\n",
        "    for i in range(size):\n",
        "      end_i = i + periods\n",
        "      if end_i == size:\n",
        "        break;\n",
        "      X.extend(data[:, i:end_i])\n",
        "      y.extend(data[:, end_i])\n",
        "    return X, y\n",
        "\n",
        "  "
      ]
    },
    {
      "cell_type": "markdown",
      "source": [
        "## Model"
      ],
      "metadata": {
        "id": "iuZVxcKvx85d"
      }
    },
    {
      "cell_type": "markdown",
      "source": [
        "I choose LSTM for my solution. Using LSTM, time series forecasting models can predict future values based on previous, sequential data. "
      ],
      "metadata": {
        "id": "3tlus_OUyAs0"
      }
    },
    {
      "cell_type": "code",
      "execution_count": null,
      "metadata": {
        "id": "JI4G5a3PGmBO"
      },
      "outputs": [],
      "source": [
        "class BaseModel(nn.Module):\n",
        "  def __init__(self, \n",
        "               valid_symbols,\n",
        "               input_size = 1, \n",
        "               hidden_size = 30, \n",
        "               num_layers = 1, \n",
        "               ):\n",
        "    super(BaseModel, self).__init__()\n",
        "    self.lstm = nn.LSTM(input_size = input_size, \n",
        "                        hidden_size = hidden_size,\n",
        "                        num_layers = num_layers,\n",
        "                        batch_first = True)\n",
        "    self.fc = nn.Linear(hidden_size, 1)\n",
        "\n",
        "\n",
        "  def forward(self, batch):\n",
        "    batch = batch.to(next(self.parameters()).device)\n",
        "    _, (hn, cn) = self.lstm(batch)\n",
        "    output = self.fc(hn[-1].squeeze()).squeeze()\n",
        "    return output"
      ]
    },
    {
      "cell_type": "code",
      "source": [
        "!pip install wandb\n",
        "!wandb login"
      ],
      "metadata": {
        "colab": {
          "base_uri": "https://localhost:8080/"
        },
        "id": "X2aR6KKgGfvN",
        "outputId": "863bf87a-915d-40be-a5c3-44a59b18c3e4"
      },
      "execution_count": null,
      "outputs": [
        {
          "output_type": "stream",
          "name": "stdout",
          "text": [
            "Looking in indexes: https://pypi.org/simple, https://us-python.pkg.dev/colab-wheels/public/simple/\n",
            "Requirement already satisfied: wandb in /usr/local/lib/python3.8/dist-packages (0.13.9)\n",
            "Requirement already satisfied: docker-pycreds>=0.4.0 in /usr/local/lib/python3.8/dist-packages (from wandb) (0.4.0)\n",
            "Requirement already satisfied: setproctitle in /usr/local/lib/python3.8/dist-packages (from wandb) (1.3.2)\n",
            "Requirement already satisfied: setuptools in /usr/local/lib/python3.8/dist-packages (from wandb) (57.4.0)\n",
            "Requirement already satisfied: pathtools in /usr/local/lib/python3.8/dist-packages (from wandb) (0.1.2)\n",
            "Requirement already satisfied: requests<3,>=2.0.0 in /usr/local/lib/python3.8/dist-packages (from wandb) (2.25.1)\n",
            "Requirement already satisfied: sentry-sdk>=1.0.0 in /usr/local/lib/python3.8/dist-packages (from wandb) (1.13.0)\n",
            "Requirement already satisfied: appdirs>=1.4.3 in /usr/local/lib/python3.8/dist-packages (from wandb) (1.4.4)\n",
            "Requirement already satisfied: protobuf!=4.21.0,<5,>=3.12.0 in /usr/local/lib/python3.8/dist-packages (from wandb) (3.19.6)\n",
            "Requirement already satisfied: psutil>=5.0.0 in /usr/local/lib/python3.8/dist-packages (from wandb) (5.4.8)\n",
            "Requirement already satisfied: PyYAML in /usr/local/lib/python3.8/dist-packages (from wandb) (6.0)\n",
            "Requirement already satisfied: typing-extensions in /usr/local/lib/python3.8/dist-packages (from wandb) (4.4.0)\n",
            "Requirement already satisfied: Click!=8.0.0,>=7.0 in /usr/local/lib/python3.8/dist-packages (from wandb) (7.1.2)\n",
            "Requirement already satisfied: GitPython>=1.0.0 in /usr/local/lib/python3.8/dist-packages (from wandb) (3.1.30)\n",
            "Requirement already satisfied: six>=1.4.0 in /usr/local/lib/python3.8/dist-packages (from docker-pycreds>=0.4.0->wandb) (1.15.0)\n",
            "Requirement already satisfied: gitdb<5,>=4.0.1 in /usr/local/lib/python3.8/dist-packages (from GitPython>=1.0.0->wandb) (4.0.10)\n",
            "Requirement already satisfied: certifi>=2017.4.17 in /usr/local/lib/python3.8/dist-packages (from requests<3,>=2.0.0->wandb) (2022.12.7)\n",
            "Requirement already satisfied: chardet<5,>=3.0.2 in /usr/local/lib/python3.8/dist-packages (from requests<3,>=2.0.0->wandb) (4.0.0)\n",
            "Requirement already satisfied: idna<3,>=2.5 in /usr/local/lib/python3.8/dist-packages (from requests<3,>=2.0.0->wandb) (2.10)\n",
            "Requirement already satisfied: urllib3<1.27,>=1.21.1 in /usr/local/lib/python3.8/dist-packages (from requests<3,>=2.0.0->wandb) (1.26.14)\n",
            "Requirement already satisfied: smmap<6,>=3.0.1 in /usr/local/lib/python3.8/dist-packages (from gitdb<5,>=4.0.1->GitPython>=1.0.0->wandb) (5.0.0)\n",
            "\u001b[34m\u001b[1mwandb\u001b[0m: Logging into wandb.ai. (Learn how to deploy a W&B server locally: https://wandb.me/wandb-server)\n",
            "\u001b[34m\u001b[1mwandb\u001b[0m: You can find your API key in your browser here: https://wandb.ai/authorize\n",
            "\u001b[34m\u001b[1mwandb\u001b[0m: Paste an API key from your profile and hit enter, or press ctrl+c to quit: \n",
            "\u001b[34m\u001b[1mwandb\u001b[0m: Appending key for api.wandb.ai to your netrc file: /root/.netrc\n"
          ]
        }
      ]
    },
    {
      "cell_type": "code",
      "execution_count": null,
      "metadata": {
        "id": "73KdgH9bORwF",
        "colab": {
          "base_uri": "https://localhost:8080/",
          "height": 758,
          "referenced_widgets": [
            "7f0ddbfa555847f3944e841d0f30f4c6",
            "3fbc0f938a824375ab83674ceb78044f",
            "cfc4a3a0ab46472db16a3dc2013313ea",
            "0037d312de6548f1a5beb5d949babf0b",
            "47c2206077eb42ee97af2a5460166197",
            "aaa081ec2c43483ebaac332245a1ca1d",
            "15cf3d11d94240a08c4323384f3954c0",
            "fbac6764791f475e8753bf8933c1f510"
          ]
        },
        "outputId": "0f8c799c-5448-45ef-95b5-b859b4109bc0"
      },
      "outputs": [
        {
          "output_type": "display_data",
          "data": {
            "text/plain": [
              "<IPython.core.display.HTML object>"
            ],
            "text/html": [
              "Finishing last run (ID:je5i1wjh) before initializing another..."
            ]
          },
          "metadata": {}
        },
        {
          "output_type": "display_data",
          "data": {
            "text/plain": [
              "<IPython.core.display.HTML object>"
            ],
            "text/html": [
              "Waiting for W&B process to finish... <strong style=\"color:green\">(success).</strong>"
            ]
          },
          "metadata": {}
        },
        {
          "output_type": "display_data",
          "data": {
            "text/plain": [
              "VBox(children=(Label(value='0.010 MB of 0.010 MB uploaded (0.000 MB deduped)\\r'), FloatProgress(value=1.0, max…"
            ],
            "application/vnd.jupyter.widget-view+json": {
              "version_major": 2,
              "version_minor": 0,
              "model_id": "7f0ddbfa555847f3944e841d0f30f4c6"
            }
          },
          "metadata": {}
        },
        {
          "output_type": "display_data",
          "data": {
            "text/plain": [
              "<IPython.core.display.HTML object>"
            ],
            "text/html": [
              "<style>\n",
              "    table.wandb td:nth-child(1) { padding: 0 10px; text-align: left ; width: auto;} td:nth-child(2) {text-align: left ; width: 100%}\n",
              "    .wandb-row { display: flex; flex-direction: row; flex-wrap: wrap; justify-content: flex-start; width: 100% }\n",
              "    .wandb-col { display: flex; flex-direction: column; flex-basis: 100%; flex: 1; padding: 10px; }\n",
              "    </style>\n",
              "<div class=\"wandb-row\"><div class=\"wandb-col\"><h3>Run history:</h3><br/><table class=\"wandb\"><tr><td>test_loss</td><td>█▄▃▂▂▁▂▂▁▄▁▃▅▁▁▁▁▂▁▁</td></tr><tr><td>train_loss</td><td>█▁▁▁▁▁▁▁▁▁▁▁▁▁▁▁▁▁▁▁</td></tr></table><br/></div><div class=\"wandb-col\"><h3>Run summary:</h3><br/><table class=\"wandb\"><tr><td>test_loss</td><td>0.0065</td></tr><tr><td>train_loss</td><td>0.04274</td></tr></table><br/></div></div>"
            ]
          },
          "metadata": {}
        },
        {
          "output_type": "display_data",
          "data": {
            "text/plain": [
              "<IPython.core.display.HTML object>"
            ],
            "text/html": [
              " View run <strong style=\"color:#cdcd00\">whole-totem-1</strong> at: <a href=\"https://wandb.ai/kmthchai/stock%20prediction/runs/je5i1wjh\" target=\"_blank\">https://wandb.ai/kmthchai/stock%20prediction/runs/je5i1wjh</a><br/>Synced 5 W&B file(s), 0 media file(s), 0 artifact file(s) and 0 other file(s)"
            ]
          },
          "metadata": {}
        },
        {
          "output_type": "display_data",
          "data": {
            "text/plain": [
              "<IPython.core.display.HTML object>"
            ],
            "text/html": [
              "Find logs at: <code>./wandb/run-20230121_092010-je5i1wjh/logs</code>"
            ]
          },
          "metadata": {}
        },
        {
          "output_type": "display_data",
          "data": {
            "text/plain": [
              "<IPython.core.display.HTML object>"
            ],
            "text/html": [
              "Successfully finished last run (ID:je5i1wjh). Initializing new run:<br/>"
            ]
          },
          "metadata": {}
        },
        {
          "output_type": "display_data",
          "data": {
            "text/plain": [
              "<IPython.core.display.HTML object>"
            ],
            "text/html": [
              "Tracking run with wandb version 0.13.9"
            ]
          },
          "metadata": {}
        },
        {
          "output_type": "display_data",
          "data": {
            "text/plain": [
              "<IPython.core.display.HTML object>"
            ],
            "text/html": [
              "Run data is saved locally in <code>/content/wandb/run-20230121_101248-bs8axir9</code>"
            ]
          },
          "metadata": {}
        },
        {
          "output_type": "display_data",
          "data": {
            "text/plain": [
              "<IPython.core.display.HTML object>"
            ],
            "text/html": [
              "Syncing run <strong><a href=\"https://wandb.ai/kmthchai/stock%20prediction/runs/bs8axir9\" target=\"_blank\">dainty-dawn-2</a></strong> to <a href=\"https://wandb.ai/kmthchai/stock%20prediction\" target=\"_blank\">Weights & Biases</a> (<a href=\"https://wandb.me/run\" target=\"_blank\">docs</a>)<br/>"
            ]
          },
          "metadata": {}
        },
        {
          "output_type": "display_data",
          "data": {
            "text/plain": [
              "<IPython.core.display.HTML object>"
            ],
            "text/html": [
              " View project at <a href=\"https://wandb.ai/kmthchai/stock%20prediction\" target=\"_blank\">https://wandb.ai/kmthchai/stock%20prediction</a>"
            ]
          },
          "metadata": {}
        },
        {
          "output_type": "display_data",
          "data": {
            "text/plain": [
              "<IPython.core.display.HTML object>"
            ],
            "text/html": [
              " View run at <a href=\"https://wandb.ai/kmthchai/stock%20prediction/runs/bs8axir9\" target=\"_blank\">https://wandb.ai/kmthchai/stock%20prediction/runs/bs8axir9</a>"
            ]
          },
          "metadata": {}
        },
        {
          "output_type": "stream",
          "name": "stdout",
          "text": [
            "epoch 0: train_loss: 1.1105679273605347 - test_loss: 0.01905941031873226\n",
            "epoch 1: train_loss: 0.11553435772657394 - test_loss: 0.010796588845551014\n",
            "epoch 2: train_loss: 0.09300500154495239 - test_loss: 0.009283967316150665\n",
            "epoch 3: train_loss: 0.07317405939102173 - test_loss: 0.008673260919749737\n",
            "epoch 4: train_loss: 0.061385322362184525 - test_loss: 0.007237032521516085\n",
            "epoch 5: train_loss: 0.05375215783715248 - test_loss: 0.0069282082840800285\n",
            "epoch 6: train_loss: 0.049857042729854584 - test_loss: 0.007356479298323393\n",
            "epoch 7: train_loss: 0.046261388808488846 - test_loss: 0.007233374752104282\n",
            "epoch 8: train_loss: 0.047504913061857224 - test_loss: 0.006405081134289503\n",
            "epoch 9: train_loss: 0.04452311620116234 - test_loss: 0.010926172137260437\n",
            "epoch 10: train_loss: 0.04388606175780296 - test_loss: 0.00680704228579998\n",
            "epoch 11: train_loss: 0.042821671813726425 - test_loss: 0.009588507004082203\n",
            "epoch 12: train_loss: 0.044367920607328415 - test_loss: 0.012967843562364578\n",
            "epoch 13: train_loss: 0.04184408485889435 - test_loss: 0.006100772880017757\n",
            "epoch 14: train_loss: 0.041825465857982635 - test_loss: 0.006916244979947805\n",
            "epoch 15: train_loss: 0.0425456203520298 - test_loss: 0.006036306731402874\n",
            "epoch 16: train_loss: 0.04215313121676445 - test_loss: 0.006196740549057722\n",
            "epoch 17: train_loss: 0.04128103703260422 - test_loss: 0.00821749772876501\n",
            "epoch 18: train_loss: 0.04251573234796524 - test_loss: 0.006534789688885212\n",
            "epoch 19: train_loss: 0.042744021862745285 - test_loss: 0.006499168463051319\n"
          ]
        }
      ],
      "source": [
        "from torch.optim import Adam\n",
        "import time\n",
        "import wandb\n",
        "torch.manual_seed(42)\n",
        "def train(device = 'cpu', epochs = 20, lr = 1e-3, batch = 32):\n",
        "\n",
        "\n",
        "  wandb.init(project=\"stock prediction\", entity=\"kmthchai\")\n",
        "\n",
        "  wandb.config = {\n",
        "    \"learning_rate\": lr,\n",
        "    \"epochs\": epochs,\n",
        "    \"batch_size\": 128\n",
        "  }\n",
        "\n",
        "  train_ds = SP500Dataset('/content/sp500_train.csv', mode = 'training')\n",
        "  test_ds = SP500Dataset('/content/sp500_test.csv', mode = 'training')\n",
        "\n",
        "  valid_symbols = train_ds.symbols\n",
        "  train_loader = DataLoader(train_ds, batch_size = batch, shuffle = True)\n",
        "  test_loader = DataLoader(test_ds, batch_size = batch)\n",
        "\n",
        " \n",
        "  if device == 'cuda' and torch.cuda.is_available():\n",
        "    device = torch.device('cuda')\n",
        "  else:\n",
        "    device = torch.device('cpu')\n",
        "\n",
        "\n",
        "  model = BaseModel(valid_symbols = valid_symbols).to(device)\n",
        "  opt = Adam(params = model.parameters(), lr = lr)\n",
        "  mse = nn.MSELoss()\n",
        "  \n",
        "  \n",
        "  for epoch in range(epochs):\n",
        "    model.train()\n",
        "    train_loss = 0\n",
        "    test_loss = 0\n",
        "    for batch in iter(train_loader):\n",
        "      features, true_prices = batch\n",
        "      opt.zero_grad()\n",
        "      output = model.forward(features.unsqueeze(-1))\n",
        "      loss = mse(output, true_prices.to(device))\n",
        "      loss.backward()\n",
        "      opt.step()\n",
        "      train_loss += loss\n",
        "\n",
        "    model.eval()\n",
        "    for batch in iter(test_loader):\n",
        "      features, true_prices = batch\n",
        "      output = model.forward(features.unsqueeze(-1))\n",
        "      loss = mse(output, true_prices.to(device))\n",
        "      test_loss += loss\n",
        "    wandb.log({\"train_loss\": train_loss, 'test_loss': test_loss})\n",
        "    print(f'epoch {epoch}: train_loss: {train_loss} - test_loss: {test_loss}')\n",
        "\n",
        "  now = time.localtime()\n",
        "  current_time = time.strftime(\"%H:%M:%S\", now)\n",
        "\n",
        "  torch.save(model.state_dict(), f'time: {current_time} loss:{test_loss} - lr:{lr}.w')\n",
        "\n",
        "train(device = 'cuda', \n",
        "      epochs = 20)"
      ]
    },
    {
      "cell_type": "markdown",
      "source": [
        "## Prediction"
      ],
      "metadata": {
        "id": "gv0A1W9p0qMs"
      }
    },
    {
      "cell_type": "markdown",
      "source": [
        "For prediction the dataset will be load from 30 months + 12 months (1 year) before December 2022. It means I will loop 12 times (12 months), each loop will use the data of 30 months ago to predict next month then the predict value will join with 29 months before to become an input in the next loop.\n",
        "\n",
        "Then after 12 loops. Inverse transform then take the last loop (December 2022) value to compare with the last year value."
      ],
      "metadata": {
        "id": "3aCvCs0uyiBs"
      }
    },
    {
      "cell_type": "code",
      "source": [
        "def predict(model_path, symbol, N):\n",
        "\n",
        "  predict_ds =  SP500Dataset('/content/sp500_test.csv', mode = 'predict')\n",
        "  valid_symbols = predict_ds.symbols\n",
        "  try:\n",
        "    symbol_index = valid_symbols.index(symbol)\n",
        "  except:\n",
        "    return None\n",
        "\n",
        "  model = torch.load(model_path)\n",
        "  \n",
        "  predict_loader = DataLoader(predict_ds, batch_size = len(valid_symbols))\n",
        "  old_periods, _ =  next(iter(predict_loader))\n",
        "  last_year_prices = old_periods[:, -1]\n",
        "  all_predicts = []\n",
        "  for i in range(12):\n",
        "    next_period_predict = model.forward(old_periods.unsqueeze(-1)).unsqueeze(-1)\n",
        "    old_periods = torch.cat((old_periods[:, 1:].to(next_period_predict.device), next_period_predict), axis = 1)\n",
        "    all_predicts.append(next_period_predict)\n",
        " \n",
        "\n",
        "  all_predicts = torch.cat(all_predicts, dim = 1)\n",
        "  all_final_predicts = all_predicts[:, -1].unsqueeze(-1)\n",
        "\n",
        "  inverse_scaler = MinMaxScaler()\n",
        "  inverse_scaler.min_, inverse_scaler.scale_ = predict_ds.scaler.min_[0],predict_ds.scaler.scale_[0]\n",
        "\n",
        "  last_year_prices = torch.Tensor(inverse_scaler.inverse_transform(last_year_prices.unsqueeze(-1))).squeeze()\n",
        "  all_final_predicts = torch.Tensor(inverse_scaler.inverse_transform(all_final_predicts.cpu().detach())).squeeze()\n",
        "  all_predicts = torch.Tensor(inverse_scaler.inverse_transform(all_predicts.cpu().detach())).squeeze()\n",
        "\n",
        "\n",
        "  growth_rates = torch.div(all_final_predicts.squeeze(), last_year_prices)\n",
        "  sorted_growth_rates, sorted_indexs = torch.sort(growth_rates, descending = True)\n",
        "  topN_growth_rates = sorted_growth_rates[:N].tolist()\n",
        "\n",
        "  topN_predict_prices = torch.index_select(all_predicts, 0, sorted_indexs)[:N].tolist()\n",
        "  sorted_indexs = sorted_indexs.tolist()\n",
        "\n",
        "  topN_symbols = []\n",
        "  for idx in sorted_indexs[:N]:\n",
        "    topN_symbols.append(valid_symbols[idx])\n",
        "\n",
        "  symbol_predict_prices = all_predicts[symbol_index].tolist()\n",
        "  return symbol_predict_prices, topN_growth_rates, topN_predict_prices, topN_symbols"
      ],
      "metadata": {
        "id": "tMB-gz8R0UIF"
      },
      "execution_count": null,
      "outputs": []
    },
    {
      "cell_type": "code",
      "execution_count": null,
      "metadata": {
        "id": "cImdeTkmiK8a"
      },
      "outputs": [],
      "source": [
        "path = '/content/time: 09:21:03 loss:0.006499168463051319 - lr:0.001.w'\n",
        "symbol_predict_prices, topN_growth_rates, topN_predict_prices, topN_symbols= predict(path, 'MMM', 5)"
      ]
    }
  ],
  "metadata": {
    "colab": {
      "provenance": []
    },
    "gpuClass": "standard",
    "kernelspec": {
      "display_name": "Python 3",
      "name": "python3"
    },
    "language_info": {
      "name": "python"
    },
    "accelerator": "GPU",
    "widgets": {
      "application/vnd.jupyter.widget-state+json": {
        "7f0ddbfa555847f3944e841d0f30f4c6": {
          "model_module": "@jupyter-widgets/controls",
          "model_name": "VBoxModel",
          "model_module_version": "1.5.0",
          "state": {
            "_dom_classes": [],
            "_model_module": "@jupyter-widgets/controls",
            "_model_module_version": "1.5.0",
            "_model_name": "VBoxModel",
            "_view_count": null,
            "_view_module": "@jupyter-widgets/controls",
            "_view_module_version": "1.5.0",
            "_view_name": "VBoxView",
            "box_style": "",
            "children": [
              "IPY_MODEL_3fbc0f938a824375ab83674ceb78044f",
              "IPY_MODEL_cfc4a3a0ab46472db16a3dc2013313ea"
            ],
            "layout": "IPY_MODEL_0037d312de6548f1a5beb5d949babf0b"
          }
        },
        "3fbc0f938a824375ab83674ceb78044f": {
          "model_module": "@jupyter-widgets/controls",
          "model_name": "LabelModel",
          "model_module_version": "1.5.0",
          "state": {
            "_dom_classes": [],
            "_model_module": "@jupyter-widgets/controls",
            "_model_module_version": "1.5.0",
            "_model_name": "LabelModel",
            "_view_count": null,
            "_view_module": "@jupyter-widgets/controls",
            "_view_module_version": "1.5.0",
            "_view_name": "LabelView",
            "description": "",
            "description_tooltip": null,
            "layout": "IPY_MODEL_47c2206077eb42ee97af2a5460166197",
            "placeholder": "​",
            "style": "IPY_MODEL_aaa081ec2c43483ebaac332245a1ca1d",
            "value": "0.010 MB of 0.010 MB uploaded (0.000 MB deduped)\r"
          }
        },
        "cfc4a3a0ab46472db16a3dc2013313ea": {
          "model_module": "@jupyter-widgets/controls",
          "model_name": "FloatProgressModel",
          "model_module_version": "1.5.0",
          "state": {
            "_dom_classes": [],
            "_model_module": "@jupyter-widgets/controls",
            "_model_module_version": "1.5.0",
            "_model_name": "FloatProgressModel",
            "_view_count": null,
            "_view_module": "@jupyter-widgets/controls",
            "_view_module_version": "1.5.0",
            "_view_name": "ProgressView",
            "bar_style": "",
            "description": "",
            "description_tooltip": null,
            "layout": "IPY_MODEL_15cf3d11d94240a08c4323384f3954c0",
            "max": 1,
            "min": 0,
            "orientation": "horizontal",
            "style": "IPY_MODEL_fbac6764791f475e8753bf8933c1f510",
            "value": 1
          }
        },
        "0037d312de6548f1a5beb5d949babf0b": {
          "model_module": "@jupyter-widgets/base",
          "model_name": "LayoutModel",
          "model_module_version": "1.2.0",
          "state": {
            "_model_module": "@jupyter-widgets/base",
            "_model_module_version": "1.2.0",
            "_model_name": "LayoutModel",
            "_view_count": null,
            "_view_module": "@jupyter-widgets/base",
            "_view_module_version": "1.2.0",
            "_view_name": "LayoutView",
            "align_content": null,
            "align_items": null,
            "align_self": null,
            "border": null,
            "bottom": null,
            "display": null,
            "flex": null,
            "flex_flow": null,
            "grid_area": null,
            "grid_auto_columns": null,
            "grid_auto_flow": null,
            "grid_auto_rows": null,
            "grid_column": null,
            "grid_gap": null,
            "grid_row": null,
            "grid_template_areas": null,
            "grid_template_columns": null,
            "grid_template_rows": null,
            "height": null,
            "justify_content": null,
            "justify_items": null,
            "left": null,
            "margin": null,
            "max_height": null,
            "max_width": null,
            "min_height": null,
            "min_width": null,
            "object_fit": null,
            "object_position": null,
            "order": null,
            "overflow": null,
            "overflow_x": null,
            "overflow_y": null,
            "padding": null,
            "right": null,
            "top": null,
            "visibility": null,
            "width": null
          }
        },
        "47c2206077eb42ee97af2a5460166197": {
          "model_module": "@jupyter-widgets/base",
          "model_name": "LayoutModel",
          "model_module_version": "1.2.0",
          "state": {
            "_model_module": "@jupyter-widgets/base",
            "_model_module_version": "1.2.0",
            "_model_name": "LayoutModel",
            "_view_count": null,
            "_view_module": "@jupyter-widgets/base",
            "_view_module_version": "1.2.0",
            "_view_name": "LayoutView",
            "align_content": null,
            "align_items": null,
            "align_self": null,
            "border": null,
            "bottom": null,
            "display": null,
            "flex": null,
            "flex_flow": null,
            "grid_area": null,
            "grid_auto_columns": null,
            "grid_auto_flow": null,
            "grid_auto_rows": null,
            "grid_column": null,
            "grid_gap": null,
            "grid_row": null,
            "grid_template_areas": null,
            "grid_template_columns": null,
            "grid_template_rows": null,
            "height": null,
            "justify_content": null,
            "justify_items": null,
            "left": null,
            "margin": null,
            "max_height": null,
            "max_width": null,
            "min_height": null,
            "min_width": null,
            "object_fit": null,
            "object_position": null,
            "order": null,
            "overflow": null,
            "overflow_x": null,
            "overflow_y": null,
            "padding": null,
            "right": null,
            "top": null,
            "visibility": null,
            "width": null
          }
        },
        "aaa081ec2c43483ebaac332245a1ca1d": {
          "model_module": "@jupyter-widgets/controls",
          "model_name": "DescriptionStyleModel",
          "model_module_version": "1.5.0",
          "state": {
            "_model_module": "@jupyter-widgets/controls",
            "_model_module_version": "1.5.0",
            "_model_name": "DescriptionStyleModel",
            "_view_count": null,
            "_view_module": "@jupyter-widgets/base",
            "_view_module_version": "1.2.0",
            "_view_name": "StyleView",
            "description_width": ""
          }
        },
        "15cf3d11d94240a08c4323384f3954c0": {
          "model_module": "@jupyter-widgets/base",
          "model_name": "LayoutModel",
          "model_module_version": "1.2.0",
          "state": {
            "_model_module": "@jupyter-widgets/base",
            "_model_module_version": "1.2.0",
            "_model_name": "LayoutModel",
            "_view_count": null,
            "_view_module": "@jupyter-widgets/base",
            "_view_module_version": "1.2.0",
            "_view_name": "LayoutView",
            "align_content": null,
            "align_items": null,
            "align_self": null,
            "border": null,
            "bottom": null,
            "display": null,
            "flex": null,
            "flex_flow": null,
            "grid_area": null,
            "grid_auto_columns": null,
            "grid_auto_flow": null,
            "grid_auto_rows": null,
            "grid_column": null,
            "grid_gap": null,
            "grid_row": null,
            "grid_template_areas": null,
            "grid_template_columns": null,
            "grid_template_rows": null,
            "height": null,
            "justify_content": null,
            "justify_items": null,
            "left": null,
            "margin": null,
            "max_height": null,
            "max_width": null,
            "min_height": null,
            "min_width": null,
            "object_fit": null,
            "object_position": null,
            "order": null,
            "overflow": null,
            "overflow_x": null,
            "overflow_y": null,
            "padding": null,
            "right": null,
            "top": null,
            "visibility": null,
            "width": null
          }
        },
        "fbac6764791f475e8753bf8933c1f510": {
          "model_module": "@jupyter-widgets/controls",
          "model_name": "ProgressStyleModel",
          "model_module_version": "1.5.0",
          "state": {
            "_model_module": "@jupyter-widgets/controls",
            "_model_module_version": "1.5.0",
            "_model_name": "ProgressStyleModel",
            "_view_count": null,
            "_view_module": "@jupyter-widgets/base",
            "_view_module_version": "1.2.0",
            "_view_name": "StyleView",
            "bar_color": null,
            "description_width": ""
          }
        }
      }
    }
  },
  "nbformat": 4,
  "nbformat_minor": 0
}